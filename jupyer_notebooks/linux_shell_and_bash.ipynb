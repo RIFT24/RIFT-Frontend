{
 "cells": [
  {
   "cell_type": "markdown",
   "metadata": {},
   "source": [
    "### Hack #1: Tool Script\n",
    "This is the script I have created that will check if all the prerequisites from the [Tools and Equipment Overview](https://nighthawkcoders.github.io/teacher//c4.3/c5.0/2023/08/16/Tools_Equipment.html) have been fullfilled for a MacOS System."
   ]
  },
  {
   "cell_type": "code",
   "execution_count": null,
   "metadata": {
    "vscode": {
     "languageId": "shellscript"
    }
   },
   "outputs": [],
   "source": [
    "%%bash\n",
    "echo \"Starting the Tools and Equipment Overview Confirmation Script...\"\n",
    "\n",
    "if which brew | grep -q \"not found\"; then\n",
    "    echo \"Homebrew not installed! Install Homebrew to complete the script!\"\n",
    "    exit 1\n",
    "else\n",
    "    echo \"Homebrew installed!\"\n",
    "fi\n",
    "\n",
    "echo \"Checking GitHub...\"\n",
    "if ls /usr/bin | grep -q git; then\n",
    "    echo \"Git installed on Host\"\n",
    "else\n",
    "    echo \"Git not installed on Host!\"\n",
    "fi\n",
    "\n",
    "echo \"Checking VSCode...\"\n",
    "if ls /Applications/ | grep -q \"Visual Studio Code\"; then\n",
    "    echo \"Visual Studio Code installed on Host\"\n",
    "else\n",
    "    echo Visual Studio Code not installed on Host!\n",
    "fi\n",
    "\n",
    "echo \"Checking Jupyter Notebook...\"\n",
    "if brew list | grep -q \"jupyterlab\"; then\n",
    "    echo \"Jupyter Notebook installed on Host\"\n",
    "else\n",
    "    echo \"Jupyter Notebook not installed on Host!\"\n",
    "fi\n",
    "\n",
    "echo \"Checking Slack...\"\n",
    "if ls /Applications/ | grep -q \"Slack\"; then\n",
    "    echo \"Slack installed on Host\"\n",
    "else\n",
    "    echo Slack not installed on Host!\n",
    "fi\n",
    "\n",
    "echo \"Checking Docker...\"\n",
    "if ls /Applications/ | grep -q \"Docker\"; then\n",
    "    echo \"Docker installed on Host\"\n",
    "else\n",
    "    echo Docker not installed on Host!\n",
    "fi\n",
    "\n",
    "echo \"Checks complete!\"\n",
    "exit 0"
   ]
  },
  {
   "cell_type": "markdown",
   "metadata": {},
   "source": [
    "### Linux Commands\n",
    "Here is my blog of [Common Linux Commands](https://rachit-j.github.io/Rackets-Blog/c1.4/2023/08/21/Terminal_Commands.html)"
   ]
  },
  {
   "cell_type": "markdown",
   "metadata": {},
   "source": [
    "### How do we confirm packages\n",
    "\n",
    "If we are doing a package manager install, ususally you can write list commands for all types of systems. For example, on Ubuntu, you can write"
   ]
  },
  {
   "cell_type": "code",
   "execution_count": null,
   "metadata": {
    "vscode": {
     "languageId": "shellscript"
    }
   },
   "outputs": [],
   "source": [
    "%%bash\n",
    "dpkg -l | less"
   ]
  },
  {
   "cell_type": "markdown",
   "metadata": {},
   "source": [
    "And on Mac with Homebrew, you can write"
   ]
  },
  {
   "cell_type": "code",
   "execution_count": null,
   "metadata": {
    "vscode": {
     "languageId": "shellscript"
    }
   },
   "outputs": [],
   "source": [
    "%%bash\n",
    "brew list | less"
   ]
  },
  {
   "cell_type": "markdown",
   "metadata": {},
   "source": [
    "Usually, with most packages, you can do the following to get the version."
   ]
  },
  {
   "cell_type": "code",
   "execution_count": null,
   "metadata": {
    "vscode": {
     "languageId": "shellscript"
    }
   },
   "outputs": [],
   "source": [
    "%%bash\n",
    "[package name/command] -v\n",
    "[package name/command] --version\n"
   ]
  },
  {
   "cell_type": "markdown",
   "metadata": {},
   "source": [
    "If you want more information, a lot of packages have the following features."
   ]
  },
  {
   "cell_type": "code",
   "execution_count": null,
   "metadata": {
    "vscode": {
     "languageId": "shellscript"
    }
   },
   "outputs": [],
   "source": [
    "%%bash\n",
    "[package name/command] -h # Package manual\n",
    "[package name/command] --help # Package manual\n",
    "man [command] # Linux manual for the command of the package"
   ]
  },
  {
   "cell_type": "markdown",
   "metadata": {},
   "source": [
    "If you are installing packages from an outside source, make sure the package comes from the official company website and scan the installer with an antivirus.\n",
    "\n",
    "If you are concerned that the download is corrupted while it was transferred, then you can get a checksum from the website and calculate the checksum on your computer. For example, if you have an md5 checksum of a .gif file, you can run the following command:"
   ]
  },
  {
   "cell_type": "code",
   "execution_count": null,
   "metadata": {
    "vscode": {
     "languageId": "shellscript"
    }
   },
   "outputs": [],
   "source": [
    "%%bash\n",
    "rachitjaiswal@Rachits-MBP# md5sum Desktop/yomp.gif\n",
    "bc75b5ce8a75c1f4c7ed1e51b113353b  Desktop/yomp.gif\n",
    "rachitjaiswal@Rachits-MBP#"
   ]
  },
  {
   "cell_type": "markdown",
   "metadata": {},
   "source": [
    "This can be verified if you download the gif and check for yourself. Even if the .gif is on a completely different architecture, the file will still have the same md5 sum, and if it is tampered with or malformed, the sum will change. Using something like this on an .exe or a .pkg file ensures that the package is valid and that it comes from the source, without being tampered or malformed."
   ]
  },
  {
   "cell_type": "markdown",
   "metadata": {},
   "source": [
    "### Updating a Repository with the command line\n",
    "To update a git repository with your command line, you must follow the steps below."
   ]
  },
  {
   "cell_type": "code",
   "execution_count": null,
   "metadata": {
    "vscode": {
     "languageId": "shellscript"
    }
   },
   "outputs": [],
   "source": [
    "%%bash\n",
    "# 1. Open a terminal and navigate to the directory of your github repository on your localhost\n",
    "# 2. Use the following command to add a repository.\n",
    "\n",
    "git add .\n",
    "\n",
    "# 3. To verify the status of the repository, run the following command\n",
    "\n",
    "git status\n",
    "\n",
    "# 4. To commit after making a change, type in the following command\n",
    "\n",
    "git commit -m 'your message here'\n",
    "\n",
    "# 5. To push, type in the following command\n",
    "\n",
    "git push\n"
   ]
  }
 ],
 "metadata": {
  "language_info": {
   "name": "python"
  },
  "orig_nbformat": 4
 },
 "nbformat": 4,
 "nbformat_minor": 2
}
