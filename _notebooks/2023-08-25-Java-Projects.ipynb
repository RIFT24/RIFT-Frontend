{
 "cells": [
  {
   "cell_type": "markdown",
   "metadata": {},
   "source": [
    "---\n",
    "toc: true\n",
    "comments: true\n",
    "layout: post\n",
    "title: Java Projects\n",
    "description: The complete Hack of the section Linux Shell and Bash. This page is also saved in a jupyter notebook.\n",
    "type: plans\n",
    "courses: { csse: {week: 1}, csp: {week: 1, categories: [4.A]}, csa: {week: 0} }\n",
    "categories: [C1.4]\n",
    "---"
   ]
  },
  {
   "cell_type": "markdown",
   "metadata": {},
   "source": [
    "### Games\n",
    "Here is some code for some console games in Java"
   ]
  },
  {
   "cell_type": "markdown",
   "metadata": {},
   "source": [
    "#### Higher or Lower\n",
    "This is the improved version of higher and lower based on the hack; ie we put the code into a different class."
   ]
  },
  {
   "cell_type": "code",
   "execution_count": 5,
   "metadata": {},
   "outputs": [],
   "source": [
    "public class HigherOrLower {\n",
    "    public static void main(String[] args) {\n",
    "        System.out.println(\"Higher or Lower\");\n",
    "        System.out.println(\"You have three guesses to guess the number I am thinking of between 1-8.\");\n",
    "        System.out.println(\"If you guess the number correctly, you win!\");\n",
    "        Scanner scHL = new Scanner(System.in);\n",
    "        int randomG = (int) (Math.random() * 8) + 1;\n",
    "        int guess = scHL.nextInt();\n",
    "        for(int i = 3; i > 0; i--){\n",
    "            if(guess == randomG){\n",
    "                System.out.println(\"You win!\");\n",
    "                break;\n",
    "            }\n",
    "            else if(guess > randomG){\n",
    "                System.out.println(\"The number is lower\");\n",
    "            }\n",
    "            else if(guess < randomG){\n",
    "                System.out.println(\"The number is higher\");\n",
    "            }\n",
    "            guess = scHL.nextInt();\n",
    "        }\n",
    "        System.out.println(\"Game over.\");\n",
    "        scHL.close();\n",
    "\n",
    "    }\n",
    "}"
   ]
  },
  {
   "cell_type": "code",
   "execution_count": 7,
   "metadata": {},
   "outputs": [
    {
     "name": "stdout",
     "output_type": "stream",
     "text": [
      "Higher or Lower\n",
      "You have three guesses to guess the number I am thinking of between 1-8.\n",
      "If you guess the number correctly, you win!\n"
     ]
    },
    {
     "name": "stdin",
     "output_type": "stream",
     "text": [
      " 5\n"
     ]
    },
    {
     "name": "stdout",
     "output_type": "stream",
     "text": [
      "The number is higher\n"
     ]
    },
    {
     "name": "stdin",
     "output_type": "stream",
     "text": [
      " 7\n"
     ]
    },
    {
     "name": "stdout",
     "output_type": "stream",
     "text": [
      "The number is higher\n"
     ]
    },
    {
     "name": "stdin",
     "output_type": "stream",
     "text": [
      " 8\n"
     ]
    },
    {
     "name": "stdout",
     "output_type": "stream",
     "text": [
      "You win!\n",
      "Game over.\n"
     ]
    }
   ],
   "source": [
    "HigherOrLower.main(null)"
   ]
  },
  {
   "cell_type": "code",
   "execution_count": null,
   "metadata": {},
   "outputs": [],
   "source": [
    "public class TheLegendOfZelda {\n",
    "    public static void main(String[] args) {\n",
    "        System.out.println(\"Your name is Link! You are on a quest to get the legendary Pizza\");\n",
    "        System.out.println(\"Right now, you are in Kakariko village. To get the Pizza, you have to travel to Hateno Village. However, there are many monsters in your way.\");\n",
    "        System.out.println(\"Suddenly, a giant pig attacks the village! What would you like to do?\");\n",
    "        System.out.println(\"1 - Break through to the path to Hateno\");\n",
    "        System.out.println(\"2 - Fight the pig (without your pizza\");\n",
    "        System.out.println(\"3 - Run inside a house and hide like a coward\");\n",
    "        int choice = scHL.nextInt();\n",
    "        if(choice == 1){\n",
    "            System.out.println(\"As you try to break through to Hateno, the Giant Pig sees you and stomps on you. Enjoy being a pancake.\");\n",
    "        }\n",
    "        else if(choice == 2) {\n",
    "            System.out.println(\"As you go to draw your sword from its sheath, the pig eats you. Since you don't have your magical pizza, you cannot break out of the pigs stomich and die from the acid\");\n",
    "        }\n",
    "        else if(choice == 3) {\n",
    "            System.out.println(\"Good job coward! The pig does not see you, and after killing all the inhabitants, goes away to feast on another village\");\n",
    "        }"
   ]
  },
  {
   "cell_type": "code",
   "execution_count": 13,
   "metadata": {},
   "outputs": [
    {
     "name": "stdout",
     "output_type": "stream",
     "text": [
      "+------------------------------------+\n",
      "| Sintendo Nitch - low quality, free |\n",
      "+------------------------------------+\n",
      "| 0 - Quit                           |\n",
      "| 1 - The Legend of Zelda: Link the  |\n",
      "|     shorty                         |\n",
      "| 2 - Higher or Lower (improved)     |\n",
      "| 3 - Guess the number               |\n",
      "+------------------------------------+\n",
      "\n"
     ]
    },
    {
     "name": "stdin",
     "output_type": "stream",
     "text": [
      " 2\n"
     ]
    },
    {
     "name": "stdout",
     "output_type": "stream",
     "text": [
      "2: Higher or Lower\n",
      "You have three guesses to guess the number I am thinking of between 1-8.\n",
      "If you guess the number correctly, you win!\n"
     ]
    },
    {
     "name": "stdin",
     "output_type": "stream",
     "text": [
      " 1\n"
     ]
    },
    {
     "name": "stdout",
     "output_type": "stream",
     "text": [
      "You win!\n",
      "Game over.\n",
      "\u001b[0m\n",
      "+------------------------------------+\n",
      "| Sintendo Nitch - low quality, free |\n",
      "+------------------------------------+\n",
      "| 0 - Quit                           |\n",
      "| 1 - The Legend of Zelda: Link the  |\n",
      "|     shorty                         |\n",
      "| 2 - Higher or Lower (improved)     |\n",
      "| 3 - Guess the number               |\n",
      "+------------------------------------+\n",
      "\n"
     ]
    },
    {
     "name": "stdin",
     "output_type": "stream",
     "text": [
      " 1\n"
     ]
    },
    {
     "name": "stdout",
     "output_type": "stream",
     "text": [
      "1: Unexpected choice, try again.\u001b[0m\n",
      "+------------------------------------+\n",
      "| Sintendo Nitch - low quality, free |\n",
      "+------------------------------------+\n",
      "| 0 - Quit                           |\n",
      "| 1 - The Legend of Zelda: Link the  |\n",
      "|     shorty                         |\n",
      "| 2 - Higher or Lower (improved)     |\n",
      "| 3 - Guess the number               |\n",
      "+------------------------------------+\n",
      "\n"
     ]
    },
    {
     "name": "stdin",
     "output_type": "stream",
     "text": [
      " 1\n"
     ]
    },
    {
     "name": "stdout",
     "output_type": "stream",
     "text": [
      "1: Unexpected choice, try again.\u001b[0m\n",
      "+------------------------------------+\n",
      "| Sintendo Nitch - low quality, free |\n",
      "+------------------------------------+\n",
      "| 0 - Quit                           |\n",
      "| 1 - The Legend of Zelda: Link the  |\n",
      "|     shorty                         |\n",
      "| 2 - Higher or Lower (improved)     |\n",
      "| 3 - Guess the number               |\n",
      "+------------------------------------+\n",
      "\n"
     ]
    },
    {
     "name": "stdin",
     "output_type": "stream",
     "text": [
      " 0\n"
     ]
    },
    {
     "name": "stdout",
     "output_type": "stream",
     "text": [
      "0: Goodbye, World!\u001b[0m\n"
     ]
    }
   ],
   "source": [
    "public class ConsoleGame {\n",
    "    public static final String DEFAULT = \"\\u001B[0m\";\n",
    "    public static final String ANSI_BLACK = \"\\u001B[30m\";\n",
    "    public static final String ANSI_RED = \"\\u001B[31m\";\n",
    "    public static final String ANSI_GREEN = \"\\u001B[32m\";\n",
    "    public static final String ANSI_YELLOW = \"\\u001B[33m\";\n",
    "    public static final String ANSI_BLUE = \"\\u001B[34m\";\n",
    "    public static final String ANSI_PURPLE = \"\\u001B[35m\";\n",
    "    public static final String ANSI_CYAN = \"\\u001B[36m\";\n",
    "    public static final String ANSI_WHITE = \"\\u001B[37m\";\n",
    "    \n",
    "    public ConsoleGame() {\n",
    "        Scanner sc = new Scanner(System.in);  // using Java Scanner Object\n",
    "        \n",
    "        boolean quit = false;\n",
    "        while (!quit) {\n",
    "            this.menuString();  // print Menu\n",
    "            try {\n",
    "                int choice = sc.nextInt();  // using method from Java Scanner Object\n",
    "                System.out.print(\"\" + choice + \": \");\n",
    "                quit = this.action(choice);  // take action\n",
    "            } catch (Exception e) {\n",
    "                sc.nextLine(); // error: clear buffer\n",
    "                System.out.println(e + \": Not a number, try again.\");\n",
    "            }\n",
    "            \n",
    "        }\n",
    "        sc.close();\n",
    "    }\n",
    "\n",
    "    public void menuString(){\n",
    "        String menuText = \"\"\n",
    "            + \"+------------------------------------+\\n\"\n",
    "            + \"| Sintendo Nitch - low quality, free |\\n\"\n",
    "            + \"+------------------------------------+\\n\"\n",
    "            + \"| 0 - Quit                           |\\n\"\n",
    "            + \"| 1 - The Legend of Zelda: Link the  |\\n\"\n",
    "            + \"|     shorty                         |\\n\"\n",
    "            + \"| 2 - Higher or Lower (improved)     |\\n\"\n",
    "            + \"| 3 - Guess the number               |\\n\"\n",
    "            + \"+------------------------------------+\\n\";\n",
    "        System.out.println(menuText);\n",
    "    }\n",
    "    private boolean action(int selection) {\n",
    "        boolean quit = false;\n",
    "        switch (selection) {  // Switch or Switch/Case is Control Flow statement and is used to evaluate the user selection\n",
    "            case 0:\n",
    "                System.out.print(\"Goodbye, World!\"); \n",
    "                quit = true; \n",
    "                break;\n",
    "            /* case 1:\n",
    "                rps();\n",
    "                break; */\n",
    "            case 2:\n",
    "                horl();\n",
    "                break;\n",
    "            /*case 3:\n",
    "                ticTacToe();\n",
    "                break; */\n",
    "                    \n",
    "            default:\n",
    "                //Prints error message from console\n",
    "                System.out.print(\"Unexpected choice, try again.\");\n",
    "        }\n",
    "        System.out.println(DEFAULT);  // make sure to reset color and provide new line\n",
    "        return quit;\n",
    "    }\n",
    "    public void horl(){\n",
    "        HigherOrLower.main(null);\n",
    "    }\n",
    "    static public void main(String[] args)  {  \n",
    "        new ConsoleGame(); // starting Menu object\n",
    "    }\n",
    "\n",
    "}\n",
    "    \n",
    "ConsoleGame.main(null);\n",
    "            \n",
    "    "
   ]
  },
  {
   "cell_type": "code",
   "execution_count": null,
   "metadata": {},
   "outputs": [],
   "source": []
  }
 ],
 "metadata": {
  "kernelspec": {
   "display_name": "Java",
   "language": "java",
   "name": "java"
  },
  "language_info": {
   "codemirror_mode": "java",
   "file_extension": ".jshell",
   "mimetype": "text/x-java-source",
   "name": "Java",
   "pygments_lexer": "java",
   "version": "20.0.2+9-78"
  }
 },
 "nbformat": 4,
 "nbformat_minor": 4
}
