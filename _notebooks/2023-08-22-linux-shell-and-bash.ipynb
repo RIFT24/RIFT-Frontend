{
 "cells": [
  {
   "cell_type": "markdown",
   "metadata": {},
   "source": [
    "---\n",
    "comments: true\n",
    "layout: post\n",
    "title: Linux Shell and Bash\n",
    "description: The complete Hack of the section Linux Shell and Bash. This page is also saved in a jupyter notebook.\n",
    "type: hacks\n",
    "courses: { csse: {week: 1}, csp: {week: 1}, csa: {week: 0} }\n",
    "categories: [C4.1]\n",
    "---\n"
   ]
  },
  {
   "cell_type": "markdown",
   "metadata": {},
   "source": [
    "### Hack #1: Tool Script\n",
    "This is the script I have created that will check if all the prerequisites from the [Tools and Equipment Overview](https://nighthawkcoders.github.io/teacher//c4.3/c5.0/2023/08/16/Tools_Equipment.html) have been fullfilled for a MacOS System."
   ]
  },
  {
   "cell_type": "code",
   "execution_count": 1,
   "metadata": {
    "vscode": {
     "languageId": "shellscript"
    }
   },
   "outputs": [
    {
     "name": "stdout",
     "output_type": "stream",
     "text": [
      "Starting the Tools and Equipment Overview Confirmation Script...\n",
      "Checking Homebrew...\n",
      "Homebrew installed!\n",
      "Checking GitHub...\n",
      "Git installed on Host\n",
      "Checking VSCode...\n",
      "Visual Studio Code installed on Host\n",
      "Checking Jupyter Notebook...\n",
      "Jupyter Notebook not installed on Host!\n",
      "Checking Slack...\n",
      "Slack installed on Host\n",
      "Checking Docker...\n",
      "Docker installed on Host\n",
      "Checks complete!\n"
     ]
    }
   ],
   "source": [
    "%%bash\n",
    "echo \"Starting the Tools and Equipment Overview Confirmation Script...\"\n",
    "\n",
    "echo \"Checking Homebrew...\"\n",
    "if which brew | grep -q \"not found\"; then\n",
    "    echo \"Homebrew not installed! Install Homebrew to complete the script!\"\n",
    "    exit 1\n",
    "else\n",
    "    echo \"Homebrew installed!\"\n",
    "fi\n",
    "\n",
    "echo \"Checking GitHub...\"\n",
    "if ls /usr/bin | grep -q git; then\n",
    "    echo \"Git installed on Host\"\n",
    "else\n",
    "    echo \"Git not installed on Host!\"\n",
    "fi\n",
    "\n",
    "echo \"Checking VSCode...\"\n",
    "if ls /Applications/ | grep -q \"Visual Studio Code\"; then\n",
    "    echo \"Visual Studio Code installed on Host\"\n",
    "else\n",
    "    echo Visual Studio Code not installed on Host!\n",
    "fi\n",
    "\n",
    "echo \"Checking Jupyter Notebook...\"\n",
    "if brew list | grep -q \"jupyterlab\"; then\n",
    "    echo \"Jupyter Notebook installed on Host\"\n",
    "else\n",
    "    echo \"Jupyter Notebook not installed on Host!\"\n",
    "fi\n",
    "\n",
    "echo \"Checking Slack...\"\n",
    "if ls /Applications/ | grep -q \"Slack\"; then\n",
    "    echo \"Slack installed on Host\"\n",
    "else\n",
    "    echo Slack not installed on Host!\n",
    "fi\n",
    "\n",
    "echo \"Checking Docker...\"\n",
    "if ls /Applications/ | grep -q \"Docker\"; then\n",
    "    echo \"Docker installed on Host\"\n",
    "else\n",
    "    echo Docker not installed on Host!\n",
    "fi\n",
    "\n",
    "echo \"Checks complete!\"\n",
    "exit 0"
   ]
  },
  {
   "cell_type": "markdown",
   "metadata": {},
   "source": [
    "### Linux Commands\n",
    "Here is my blog of [Common Linux Commands](https://rachit-j.github.io/Rackets-Blog/c1.4/2023/08/21/Terminal_Commands.html)"
   ]
  },
  {
   "cell_type": "markdown",
   "metadata": {},
   "source": [
    "### How do we confirm packages\n",
    "\n",
    "If we are doing a package manager install, ususally you can write list commands for all types of systems. For example, on Ubuntu, you can write"
   ]
  },
  {
   "cell_type": "code",
   "execution_count": 2,
   "metadata": {
    "vscode": {
     "languageId": "shellscript"
    }
   },
   "outputs": [
    {
     "name": "stderr",
     "output_type": "stream",
     "text": [
      "bash: line 1: dpkg: command not found\n"
     ]
    }
   ],
   "source": [
    "%%bash\n",
    "dpkg -l | less"
   ]
  },
  {
   "cell_type": "markdown",
   "metadata": {},
   "source": [
    "And on Mac with Homebrew, you can write"
   ]
  },
  {
   "cell_type": "code",
   "execution_count": 3,
   "metadata": {
    "vscode": {
     "languageId": "shellscript"
    }
   },
   "outputs": [
    {
     "name": "stdout",
     "output_type": "stream",
     "text": [
      "autoconf\n",
      "automake\n",
      "bison\n",
      "black\n",
      "brotli\n",
      "c-ares\n",
      "ca-certificates\n",
      "cairo\n",
      "cffi\n",
      "chruby\n",
      "fontconfig\n",
      "freetype\n",
      "gdbm\n",
      "gettext\n",
      "giflib\n",
      "git\n",
      "glib\n",
      "gradle\n",
      "graphite2\n",
      "harfbuzz\n",
      "icu4c\n",
      "ipython\n",
      "jpeg-turbo\n",
      "libffi\n",
      "libidn2\n",
      "libnghttp2\n",
      "libpng\n",
      "libsodium\n",
      "libtiff\n",
      "libunistring\n",
      "libuv\n",
      "libx11\n",
      "libxau\n",
      "libxcb\n",
      "libxdmcp\n",
      "libxext\n",
      "libxrender\n",
      "libyaml\n",
      "little-cms2\n",
      "lz4\n",
      "lzo\n",
      "m4\n",
      "md5sha1sum\n",
      "mpdecimal\n",
      "mypy\n",
      "node\n",
      "openjdk\n",
      "openssl@1.1\n",
      "openssl@3\n",
      "pandoc\n",
      "pcre2\n",
      "pixman\n",
      "pkg-config\n",
      "pycodestyle\n",
      "pycparser\n",
      "pydocstyle\n",
      "pygments\n",
      "python-certifi\n",
      "python-lsp-server\n",
      "python@3.11\n",
      "pyyaml\n",
      "readline\n",
      "ruby-install\n",
      "six\n",
      "sqlite\n",
      "wget\n",
      "xorgproto\n",
      "xz\n",
      "zeromq\n",
      "zstd\n"
     ]
    }
   ],
   "source": [
    "%%bash\n",
    "brew list | less"
   ]
  },
  {
   "cell_type": "markdown",
   "metadata": {},
   "source": [
    "Usually, with most packages, you can do the following to get the version."
   ]
  },
  {
   "cell_type": "code",
   "execution_count": 4,
   "metadata": {
    "vscode": {
     "languageId": "shellscript"
    }
   },
   "outputs": [
    {
     "name": "stderr",
     "output_type": "stream",
     "text": [
      "bash: line 1: [package: command not found\n",
      "bash: line 2: [package: command not found\n"
     ]
    },
    {
     "ename": "CalledProcessError",
     "evalue": "Command 'b'[package name/command] -v\\n[package name/command] --version\\n'' returned non-zero exit status 127.",
     "output_type": "error",
     "traceback": [
      "\u001b[0;31m---------------------------------------------------------------------------\u001b[0m",
      "\u001b[0;31mCalledProcessError\u001b[0m                        Traceback (most recent call last)",
      "Cell \u001b[0;32mIn[4], line 1\u001b[0m\n\u001b[0;32m----> 1\u001b[0m get_ipython()\u001b[39m.\u001b[39;49mrun_cell_magic(\u001b[39m'\u001b[39;49m\u001b[39mbash\u001b[39;49m\u001b[39m'\u001b[39;49m, \u001b[39m'\u001b[39;49m\u001b[39m'\u001b[39;49m, \u001b[39m'\u001b[39;49m\u001b[39m[package name/command] -v\u001b[39;49m\u001b[39m\\n\u001b[39;49;00m\u001b[39m[package name/command] --version\u001b[39;49m\u001b[39m\\n\u001b[39;49;00m\u001b[39m'\u001b[39;49m)\n",
      "File \u001b[0;32m/opt/homebrew/lib/python3.11/site-packages/IPython/core/interactiveshell.py:2478\u001b[0m, in \u001b[0;36mInteractiveShell.run_cell_magic\u001b[0;34m(self, magic_name, line, cell)\u001b[0m\n\u001b[1;32m   2476\u001b[0m \u001b[39mwith\u001b[39;00m \u001b[39mself\u001b[39m\u001b[39m.\u001b[39mbuiltin_trap:\n\u001b[1;32m   2477\u001b[0m     args \u001b[39m=\u001b[39m (magic_arg_s, cell)\n\u001b[0;32m-> 2478\u001b[0m     result \u001b[39m=\u001b[39m fn(\u001b[39m*\u001b[39;49margs, \u001b[39m*\u001b[39;49m\u001b[39m*\u001b[39;49mkwargs)\n\u001b[1;32m   2480\u001b[0m \u001b[39m# The code below prevents the output from being displayed\u001b[39;00m\n\u001b[1;32m   2481\u001b[0m \u001b[39m# when using magics with decodator @output_can_be_silenced\u001b[39;00m\n\u001b[1;32m   2482\u001b[0m \u001b[39m# when the last Python token in the expression is a ';'.\u001b[39;00m\n\u001b[1;32m   2483\u001b[0m \u001b[39mif\u001b[39;00m \u001b[39mgetattr\u001b[39m(fn, magic\u001b[39m.\u001b[39mMAGIC_OUTPUT_CAN_BE_SILENCED, \u001b[39mFalse\u001b[39;00m):\n",
      "File \u001b[0;32m/opt/homebrew/lib/python3.11/site-packages/IPython/core/magics/script.py:154\u001b[0m, in \u001b[0;36mScriptMagics._make_script_magic.<locals>.named_script_magic\u001b[0;34m(line, cell)\u001b[0m\n\u001b[1;32m    152\u001b[0m \u001b[39melse\u001b[39;00m:\n\u001b[1;32m    153\u001b[0m     line \u001b[39m=\u001b[39m script\n\u001b[0;32m--> 154\u001b[0m \u001b[39mreturn\u001b[39;00m \u001b[39mself\u001b[39;49m\u001b[39m.\u001b[39;49mshebang(line, cell)\n",
      "File \u001b[0;32m/opt/homebrew/lib/python3.11/site-packages/IPython/core/magics/script.py:314\u001b[0m, in \u001b[0;36mScriptMagics.shebang\u001b[0;34m(self, line, cell)\u001b[0m\n\u001b[1;32m    309\u001b[0m \u001b[39mif\u001b[39;00m args\u001b[39m.\u001b[39mraise_error \u001b[39mand\u001b[39;00m p\u001b[39m.\u001b[39mreturncode \u001b[39m!=\u001b[39m \u001b[39m0\u001b[39m:\n\u001b[1;32m    310\u001b[0m     \u001b[39m# If we get here and p.returncode is still None, we must have\u001b[39;00m\n\u001b[1;32m    311\u001b[0m     \u001b[39m# killed it but not yet seen its return code. We don't wait for it,\u001b[39;00m\n\u001b[1;32m    312\u001b[0m     \u001b[39m# in case it's stuck in uninterruptible sleep. -9 = SIGKILL\u001b[39;00m\n\u001b[1;32m    313\u001b[0m     rc \u001b[39m=\u001b[39m p\u001b[39m.\u001b[39mreturncode \u001b[39mor\u001b[39;00m \u001b[39m-\u001b[39m\u001b[39m9\u001b[39m\n\u001b[0;32m--> 314\u001b[0m     \u001b[39mraise\u001b[39;00m CalledProcessError(rc, cell)\n",
      "\u001b[0;31mCalledProcessError\u001b[0m: Command 'b'[package name/command] -v\\n[package name/command] --version\\n'' returned non-zero exit status 127."
     ]
    }
   ],
   "source": [
    "%%bash\n",
    "[package name/command] -v\n",
    "[package name/command] --version\n"
   ]
  },
  {
   "cell_type": "markdown",
   "metadata": {},
   "source": [
    "If you want more information, a lot of packages have the following features."
   ]
  },
  {
   "cell_type": "code",
   "execution_count": null,
   "metadata": {
    "vscode": {
     "languageId": "shellscript"
    }
   },
   "outputs": [],
   "source": [
    "%%bash\n",
    "[package name/command] -h # Package manual\n",
    "[package name/command] --help # Package manual\n",
    "man [command] # Linux manual for the command of the package"
   ]
  },
  {
   "cell_type": "markdown",
   "metadata": {},
   "source": [
    "If you are installing packages from an outside source, make sure the package comes from the official company website and scan the installer with an antivirus.\n",
    "\n",
    "If you are concerned that the download is corrupted while it was transferred, then you can get a checksum from the website and calculate the checksum on your computer. For example, if you have an md5 checksum of a .gif file, you can run the following command:"
   ]
  },
  {
   "cell_type": "code",
   "execution_count": null,
   "metadata": {
    "vscode": {
     "languageId": "shellscript"
    }
   },
   "outputs": [],
   "source": [
    "%%bash\n",
    "rachitjaiswal@Rachits-MBP# md5sum Desktop/yomp.gif\n",
    "bc75b5ce8a75c1f4c7ed1e51b113353b  Desktop/yomp.gif\n",
    "rachitjaiswal@Rachits-MBP#"
   ]
  },
  {
   "cell_type": "markdown",
   "metadata": {},
   "source": [
    "This can be verified if you download the gif and check for yourself. Even if the .gif is on a completely different architecture, the file will still have the same md5 sum, and if it is tampered with or malformed, the sum will change. Using something like this on an .exe or a .pkg file ensures that the package is valid and that it comes from the source, without being tampered or malformed."
   ]
  },
  {
   "cell_type": "markdown",
   "metadata": {},
   "source": [
    "### Updating a Repository with the command line\n",
    "To update a git repository with your command line, you must follow the steps below."
   ]
  },
  {
   "cell_type": "code",
   "execution_count": null,
   "metadata": {
    "vscode": {
     "languageId": "shellscript"
    }
   },
   "outputs": [],
   "source": [
    "%%bash\n",
    "# 1. Open a terminal and navigate to the directory of your github repository on your localhost\n",
    "# 2. Use the following command to add a repository.\n",
    "\n",
    "git add .\n",
    "\n",
    "# 3. To verify the status of the repository, run the following command\n",
    "\n",
    "git status\n",
    "\n",
    "# 4. To commit after making a change, type in the following command\n",
    "\n",
    "git commit -m 'your message here'\n",
    "\n",
    "# 5. To push, type in the following command\n",
    "\n",
    "git push\n"
   ]
  }
 ],
 "metadata": {
  "kernelspec": {
   "display_name": "Python 3",
   "language": "python",
   "name": "python3"
  },
  "language_info": {
   "codemirror_mode": {
    "name": "ipython",
    "version": 3
   },
   "file_extension": ".py",
   "mimetype": "text/x-python",
   "name": "python",
   "nbconvert_exporter": "python",
   "pygments_lexer": "ipython3",
   "version": "3.11.4"
  },
  "orig_nbformat": 4
 },
 "nbformat": 4,
 "nbformat_minor": 2
}
